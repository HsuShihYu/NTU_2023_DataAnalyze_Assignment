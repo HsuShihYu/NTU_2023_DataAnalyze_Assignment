{
 "cells": [
  {
   "attachments": {},
   "cell_type": "markdown",
   "metadata": {},
   "source": [
    "## **Data Analytics HW#4**\n",
    "* **學號：R10546001**\n",
    "* **姓名：許世佑**"
   ]
  },
  {
   "attachments": {},
   "cell_type": "markdown",
   "metadata": {},
   "source": [
    "### **Q4**"
   ]
  },
  {
   "cell_type": "code",
   "execution_count": 79,
   "metadata": {},
   "outputs": [],
   "source": [
    "import numpy as np\n",
    "from scipy.stats import f\n",
    "\n",
    "# Define the null hypothesis\n",
    "mu = np.array([7, 11])\n",
    "\n",
    "# Define the data matrix\n",
    "X = np.array([[2, 12], [8, 9], [6, 9], [8, 10]])\n",
    "\n",
    "# Calculate the sample mean vector\n",
    "x_bar = np.mean(X, axis=0)\n",
    "\n",
    "# Calculate the sample covariance matrix\n",
    "S = np.cov(X, rowvar=False)\n",
    "\n",
    "# Calculate the T^2 test statistic\n",
    "T2 = np.matmul(np.matmul((x_bar - mu).T, np.linalg.inv(S)), (x_bar - mu))\n",
    "\n",
    "# Calculate the degrees of freedom\n",
    "n = X.shape[0]\n",
    "p = X.shape[1]\n",
    "df1 = p\n",
    "df2 = n - p\n",
    "\n",
    "# Calculate the p-value\n",
    "p_value = 1 - f.cdf(T2, df1, df2)"
   ]
  },
  {
   "cell_type": "code",
   "execution_count": 80,
   "metadata": {},
   "outputs": [
    {
     "name": "stdout",
     "output_type": "stream",
     "text": [
      "T^2 = 3.4090909090909074\n",
      "p-value = 0.2268041237113403\n"
     ]
    }
   ],
   "source": [
    "print(\"T^2 =\", T2)\n",
    "print(\"p-value =\", p_value)"
   ]
  },
  {
   "attachments": {},
   "cell_type": "markdown",
   "metadata": {},
   "source": [
    "### **Q5**"
   ]
  },
  {
   "cell_type": "code",
   "execution_count": 59,
   "metadata": {},
   "outputs": [
    {
     "name": "stdout",
     "output_type": "stream",
     "text": [
      "Female: \n",
      "Length    0.025998\n",
      "Width     0.015876\n",
      "Height    0.023969\n",
      "dtype: float64\n",
      "\n",
      "Male: \n",
      "Length    0.010875\n",
      "Width     0.006273\n",
      "Height    0.006451\n",
      "dtype: float64\n"
     ]
    }
   ],
   "source": [
    "import pandas as pd\n",
    "import numpy as np\n",
    "from scipy import stats\n",
    "\n",
    "female_data = pd.read_csv(r\"/Users/4yo/Downloads/female.csv\")\n",
    "male_data = pd.read_csv(r\"/Users/4yo/Downloads/male.csv\")\n",
    "\n",
    "# formulate the data into array formation\n",
    "female_data_array = np.log1p(female_data)\n",
    "male_data_array = np.log1p(male_data)\n",
    "\n",
    "# Caculate the variance from each column and let it be float type.\n",
    "var_female_data = female_data_array.var(ddof=1)\n",
    "print(\"Female: \\n\" + str(var_female_data) + \"\\n\")\n",
    "var_male_data = male_data_array.var(ddof=1)\n",
    "print(\"Male: \\n\" + str(var_male_data))"
   ]
  },
  {
   "cell_type": "code",
   "execution_count": 49,
   "metadata": {},
   "outputs": [
    {
     "name": "stdout",
     "output_type": "stream",
     "text": [
      "Length    4.435356\n",
      "Width     4.735391\n",
      "Height    6.521074\n",
      "dtype: float64\n",
      "[0.99997159 0.99998938 0.99999998]\n",
      "p value [Length, Width, Height] = [5.68158054e-05 2.12389189e-05 4.77621800e-08]\n"
     ]
    }
   ],
   "source": [
    "s = np.sqrt((var_female_data + var_male_data)/2)\n",
    "t = (female_data_array.mean() - male_data_array.mean())/(s*np.sqrt(2/len(female_data)))\n",
    "print(t)\n",
    "t2, p2 = stats.ttest_ind(female_data_array,male_data_array)\n",
    "\n",
    "df = 2*len(female_data) - 2\n",
    "print(stats.t.cdf(t,df=df))\n",
    "p_value = 1 - stats.t.cdf(t,df=df)\n",
    "print(\"p value [Length, Width, Height] = \" + str(2*p_value))"
   ]
  },
  {
   "cell_type": "code",
   "execution_count": 45,
   "metadata": {},
   "outputs": [
    {
     "name": "stdout",
     "output_type": "stream",
     "text": [
      "Length is significantly different\n",
      "Width is significantly different\n",
      "Height is significantly different\n"
     ]
    }
   ],
   "source": [
    "for i in range(0, len(p_value)):\n",
    "    if 2*p_value[i] < p2[i]:\n",
    "        print(female_data.columns[i]+\" is significantly different\")\n",
    "    else:\n",
    "        print(female_data.columns[i]+\" is not significantly different\")"
   ]
  },
  {
   "attachments": {},
   "cell_type": "markdown",
   "metadata": {},
   "source": [
    "### **Q6-a**"
   ]
  },
  {
   "cell_type": "code",
   "execution_count": 85,
   "metadata": {},
   "outputs": [
    {
     "name": "stdout",
     "output_type": "stream",
     "text": [
      "MANOVA for species effect:\n",
      "                  Multivariate linear model\n",
      "==============================================================\n",
      "                                                              \n",
      "--------------------------------------------------------------\n",
      "       Intercept         Value   Num DF Den DF F Value  Pr > F\n",
      "--------------------------------------------------------------\n",
      "          Wilks' lambda   0.0023 2.0000 2.0000 429.4225 0.0023\n",
      "         Pillai's trace   0.9977 2.0000 2.0000 429.4225 0.0023\n",
      " Hotelling-Lawley trace 429.4225 2.0000 1.0000 214.7112 0.0482\n",
      "    Roy's greatest root 429.4225 2.0000 2.0000 429.4225 0.0023\n",
      "--------------------------------------------------------------\n",
      "                                                              \n",
      "--------------------------------------------------------------\n",
      "          species          Value  Num DF Den DF F Value Pr > F\n",
      "--------------------------------------------------------------\n",
      "            Wilks' lambda  0.0159 4.0000 4.0000  6.9238 0.0438\n",
      "           Pillai's trace  1.4034 4.0000 6.0000  3.5281 0.0824\n",
      "   Hotelling-Lawley trace 35.4610 4.0000 2.0000  8.8653 0.1039\n",
      "      Roy's greatest root 34.7024 2.0000 3.0000 52.0537 0.0047\n",
      "==============================================================\n",
      "\n",
      "MANOVA for nutrient effect:\n",
      "                 Multivariate linear model\n",
      "============================================================\n",
      "                                                            \n",
      "------------------------------------------------------------\n",
      "       Intercept         Value  Num DF Den DF F Value Pr > F\n",
      "------------------------------------------------------------\n",
      "          Wilks' lambda  0.0812 2.0000 3.0000 16.9782 0.0231\n",
      "         Pillai's trace  0.9188 2.0000 3.0000 16.9782 0.0231\n",
      " Hotelling-Lawley trace 11.3188 2.0000 3.0000 16.9782 0.0231\n",
      "    Roy's greatest root 11.3188 2.0000 3.0000 16.9782 0.0231\n",
      "------------------------------------------------------------\n",
      "                                                            \n",
      "------------------------------------------------------------\n",
      "         nutrient        Value  Num DF Den DF F Value Pr > F\n",
      "------------------------------------------------------------\n",
      "           Wilks' lambda 0.6114 2.0000 3.0000  0.9535 0.4780\n",
      "          Pillai's trace 0.3886 2.0000 3.0000  0.9535 0.4780\n",
      "  Hotelling-Lawley trace 0.6357 2.0000 3.0000  0.9535 0.4780\n",
      "     Roy's greatest root 0.6357 2.0000 3.0000  0.9535 0.4780\n",
      "============================================================\n",
      "\n"
     ]
    }
   ],
   "source": [
    "import pandas as pd\n",
    "import numpy as np\n",
    "import statsmodels.api as sm\n",
    "from statsmodels.multivariate.manova import MANOVA\n",
    "\n",
    "# Create a pandas dataframe from the given cell means\n",
    "data = pd.DataFrame({\n",
    "    'x1': [10.35, 13.41, 7.78, 10.40, 17.78, 10.40],\n",
    "    'x2': [25.93, 38.63, 25.15, 24.25, 41.45, 29.20],\n",
    "    'species': ['SS', 'JL', 'LP', 'SS', 'JL', 'LP'],\n",
    "    'nutrient': ['+', '+', '+', '-', '-', '-']\n",
    "})\n",
    "\n",
    "# Fit a MANOVA model for species effect\n",
    "manova_species = MANOVA.from_formula('x1 + x2 ~ species', data=data)\n",
    "print('MANOVA for species effect:')\n",
    "print(manova_species.mv_test())\n",
    "\n",
    "# Fit a MANOVA model for nutrient effect\n",
    "manova_nutrient = MANOVA.from_formula('x1 + x2 ~ nutrient', data=data)\n",
    "print('MANOVA for nutrient effect:')\n",
    "print(manova_nutrient.mv_test())\n"
   ]
  },
  {
   "attachments": {},
   "cell_type": "markdown",
   "metadata": {},
   "source": [
    "### **Q6-b**"
   ]
  },
  {
   "cell_type": "code",
   "execution_count": 98,
   "metadata": {},
   "outputs": [],
   "source": [
    "from statsmodels.formula.api import ols\n",
    "from statsmodels.stats.anova import anova_lm\n",
    "\n",
    "# Create a pandas dataframe from the given cell means\n",
    "data = pd.DataFrame({\n",
    "    'x1': [10.35, 13.41, 7.78, 10.40, 17.78, 10.40],\n",
    "    'x2': [25.93, 38.63, 25.15, 24.25, 41.45, 29.20],\n",
    "    'species': ['SS', 'JL', 'LP', 'SS', 'JL', 'LP'],\n",
    "    'nutrient': ['+', '+', '+', '-', '-', '-']\n",
    "})"
   ]
  },
  {
   "cell_type": "code",
   "execution_count": 96,
   "metadata": {},
   "outputs": [
    {
     "name": "stdout",
     "output_type": "stream",
     "text": [
      "two-way ANOVA model for the 560CM observations\n",
      "                         df        sum_sq    mean_sq    F  PR(>F)\n",
      "C(species)              2.0  4.747643e+01  23.738217  0.0     NaN\n",
      "C(nutrient)             1.0  8.260267e+00   8.260267  0.0     NaN\n",
      "C(species):C(nutrient)  2.0  4.721633e+00   2.360817  0.0     NaN\n",
      "Residual                0.0  5.679799e-28        inf  NaN     NaN\n"
     ]
    },
    {
     "name": "stderr",
     "output_type": "stream",
     "text": [
      "/Users/4yo/Library/Python/3.8/lib/python/site-packages/statsmodels/stats/anova.py:138: RuntimeWarning: divide by zero encountered in scalar divide\n",
      "  (model.ssr / model.df_resid))\n"
     ]
    }
   ],
   "source": [
    "# Fit a two-way ANOVA model for the 560CM observations\n",
    "model = ols('x1 ~ C(species) + C(nutrient) + C(species):C(nutrient)', data).fit()\n",
    "anova_results = anova_lm(model)\n",
    "print(\"two-way ANOVA model for the 560CM observations\")\n",
    "print(anova_results)"
   ]
  },
  {
   "cell_type": "code",
   "execution_count": 97,
   "metadata": {},
   "outputs": [
    {
     "name": "stdout",
     "output_type": "stream",
     "text": [
      "two-way ANOVA model for the 720CM observations\n",
      "                         df        sum_sq     mean_sq    F  PR(>F)\n",
      "C(species)              2.0  2.622386e+02  131.119317  0.0     NaN\n",
      "C(nutrient)             1.0  4.489350e+00    4.489350  0.0     NaN\n",
      "C(species):C(nutrient)  2.0  9.099300e+00    4.549650  0.0     NaN\n",
      "Residual                0.0  2.852521e-27         inf  NaN     NaN\n"
     ]
    },
    {
     "name": "stderr",
     "output_type": "stream",
     "text": [
      "/Users/4yo/Library/Python/3.8/lib/python/site-packages/statsmodels/stats/anova.py:138: RuntimeWarning: divide by zero encountered in scalar divide\n",
      "  (model.ssr / model.df_resid))\n"
     ]
    }
   ],
   "source": [
    "# Fit a two-way ANOVA model for the 720CM observations\n",
    "model = ols('x2 ~ C(species) + C(nutrient) + C(species):C(nutrient)', data).fit()\n",
    "anova_results = anova_lm(model)\n",
    "print(\"two-way ANOVA model for the 720CM observations\")\n",
    "print(anova_results)"
   ]
  }
 ],
 "metadata": {
  "kernelspec": {
   "display_name": "Python 3",
   "language": "python",
   "name": "python3"
  },
  "language_info": {
   "codemirror_mode": {
    "name": "ipython",
    "version": 3
   },
   "file_extension": ".py",
   "mimetype": "text/x-python",
   "name": "python",
   "nbconvert_exporter": "python",
   "pygments_lexer": "ipython3",
   "version": "3.8.2"
  },
  "orig_nbformat": 4
 },
 "nbformat": 4,
 "nbformat_minor": 2
}
