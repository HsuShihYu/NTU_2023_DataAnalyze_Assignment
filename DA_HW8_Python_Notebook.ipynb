{
 "cells": [
  {
   "attachments": {},
   "cell_type": "markdown",
   "metadata": {},
   "source": [
    "## **Data Analytics HW#8**\n",
    "* **學號：R10546001**\n",
    "* **姓名：許世佑**"
   ]
  },
  {
   "attachments": {},
   "cell_type": "markdown",
   "metadata": {},
   "source": [
    "### **Q1**"
   ]
  },
  {
   "cell_type": "code",
   "execution_count": 8,
   "metadata": {},
   "outputs": [],
   "source": [
    "import numpy as np\n",
    "import pandas as pd\n",
    "import matplotlib.pyplot as plt\n",
    "import warnings\n",
    "from PIL import Image\n",
    "from sklearn.preprocessing import StandardScaler\n",
    "from sklearn.cluster import KMeans\n",
    "#hierarchical clustering\n",
    "from sklearn.cluster import AgglomerativeClustering"
   ]
  },
  {
   "cell_type": "code",
   "execution_count": 9,
   "metadata": {},
   "outputs": [
    {
     "name": "stdout",
     "output_type": "stream",
     "text": [
      "         0      1      2      3      4      5      6      7      8      9  \\\n",
      "0     88.0   88.0   90.0   91.0   91.0   92.0   90.0   93.0   99.0  109.0   \n",
      "1     87.0   90.0   95.0   96.0   92.0   90.0   97.0  107.0  111.0  112.0   \n",
      "2     92.0   92.0   88.0   98.0  104.0  109.0  108.0  100.0   80.0   63.0   \n",
      "3     92.0   96.0   93.0   94.0   99.0  105.0  108.0  109.0  121.0  152.0   \n",
      "4     83.0   75.0   88.0   91.0  101.0   90.0   86.0   80.0   63.0   58.0   \n",
      "..     ...    ...    ...    ...    ...    ...    ...    ...    ...    ...   \n",
      "395  124.0  124.0  125.0  123.0  124.0  125.0  123.0  124.0  123.0  122.0   \n",
      "396  128.0  128.0  128.0  128.0  129.0  128.0  129.0  127.0  127.0  127.0   \n",
      "397  122.0  123.0  124.0  124.0  123.0  123.0  122.0  126.0  130.0  126.0   \n",
      "398  120.0  119.0  121.0  119.0  120.0  121.0  122.0  117.0  111.0  100.0   \n",
      "399  124.0  125.0  125.0  125.0  124.0  125.0  124.0  124.0  124.0  124.0   \n",
      "\n",
      "     ...   2567   2568   2569   2570   2571   2572   2573   2574   2575  \\\n",
      "0    ...  176.0  166.0  149.0  142.0  145.0  141.0  138.0  142.0  134.0   \n",
      "1    ...  175.0  172.0  147.0  131.0  132.0  124.0  124.0  120.0   88.0   \n",
      "2    ...   84.0  128.0  154.0  161.0  169.0  170.0  165.0  146.0  151.0   \n",
      "3    ...  153.0  164.0  163.0  165.0  166.0  161.0  157.0   79.0   54.0   \n",
      "4    ...  145.0  148.0  151.0  139.0  134.0  173.0  167.0  176.0  188.0   \n",
      "..   ...    ...    ...    ...    ...    ...    ...    ...    ...    ...   \n",
      "395  ...   34.0   63.0   37.0   37.0   37.0   38.0   39.0   38.0   40.0   \n",
      "396  ...   92.0   90.0   90.0   91.0   91.0   91.0   91.0   92.0   93.0   \n",
      "397  ...   24.0   57.0   41.0   37.0   36.0   37.0   38.0   40.0   38.0   \n",
      "398  ...  137.0  134.0  101.0   26.0   77.0   95.0   95.0   92.0   90.0   \n",
      "399  ...   35.0   69.0   55.0   31.0   36.0   33.0   33.0   34.0   34.0   \n",
      "\n",
      "     Gender  \n",
      "0       0.0  \n",
      "1       0.0  \n",
      "2       0.0  \n",
      "3       0.0  \n",
      "4       0.0  \n",
      "..      ...  \n",
      "395     1.0  \n",
      "396     1.0  \n",
      "397     1.0  \n",
      "398     1.0  \n",
      "399     1.0  \n",
      "\n",
      "[400 rows x 2577 columns]\n"
     ]
    }
   ],
   "source": [
    "# load data\n",
    "df = pd.DataFrame(np.zeros((400, 2576)))\n",
    "count = 0\n",
    "for i in range(40):\n",
    "    for j in range(10):\n",
    "        image = Image.open(\"/Users/4yo/Desktop/NTU_Class/Data_Analyze_Method/ORL_Faces/\" + str(i+1) + \"_\" + str(j+1) + \".png\")\n",
    "        image_array = np.array(image)\n",
    "        image_array = image_array.reshape(1,-1)\n",
    "        df.iloc[count] = image_array\n",
    "        count += 1\n",
    "df[\"Gender\"] = np.ones((400,1))\n",
    "df.iloc[0:10, 2576] = 0.0\n",
    "df.iloc[70:80, 2576] = 0.0\n",
    "df.iloc[90:100, 2576] = 0.0\n",
    "df.iloc[310:320, 2576] = 0.0\n",
    "print(df)"
   ]
  },
  {
   "cell_type": "code",
   "execution_count": 10,
   "metadata": {},
   "outputs": [
    {
     "name": "stdout",
     "output_type": "stream",
     "text": [
      "True Labels: 157\n",
      "False Labels: 243\n"
     ]
    }
   ],
   "source": [
    "# k-means\n",
    "X = df.iloc[:,0:2576]\n",
    "scaler = StandardScaler()\n",
    "X = scaler.fit_transform(X)\n",
    "X = pd.DataFrame(X)\n",
    "warnings.filterwarnings(\"ignore\")\n",
    "kmeans_model = KMeans(n_clusters = 2)\n",
    "kmeans_model.fit(X)\n",
    "X[\"clusters\"] = kmeans_model.labels_\n",
    "true_label = sum(X[\"clusters\"] == df[\"Gender\"])\n",
    "false_label = sum(X[\"clusters\"] != df[\"Gender\"])\n",
    "print(\"True Labels: {}\\nFalse Labels: {}\".format(true_label, false_label))"
   ]
  },
  {
   "cell_type": "code",
   "execution_count": 11,
   "metadata": {},
   "outputs": [
    {
     "data": {
      "text/plain": [
       "Text(0, 0.5, 'False Labels')"
      ]
     },
     "execution_count": 11,
     "metadata": {},
     "output_type": "execute_result"
    },
    {
     "data": {
      "image/png": "[encoded data removed]",
      "text/plain": [
       "<Figure size 432x288 with 1 Axes>"
      ]
     },
     "metadata": {
      "needs_background": "light"
     },
     "output_type": "display_data"
    }
   ],
   "source": [
    "true_lab = []\n",
    "false_lab = []\n",
    "for i in range(100):\n",
    "    kmeans_model = KMeans(n_clusters = 2)\n",
    "    kmeans_model.fit(X)\n",
    "    true_label = sum(kmeans_model.labels_ == df[\"Gender\"])\n",
    "    false_label = sum(kmeans_model.labels_ != df[\"Gender\"])\n",
    "    true_lab.append(true_label)\n",
    "    false_lab.append(false_label)\n",
    "\n",
    "plt.scatter(true_lab, false_lab)\n",
    "plt.xlabel(\"True Labels\")\n",
    "plt.ylabel(\"False Labels\")"
   ]
  },
  {
   "cell_type": "code",
   "execution_count": 29,
   "metadata": {},
   "outputs": [
    {
     "name": "stdout",
     "output_type": "stream",
     "text": [
      "# of True Labeling: 120\n",
      "# of False Labeling: 280\n"
     ]
    },
    {
     "data": {
      "text/plain": [
       "Text(0, 0.5, 'False Labels')"
      ]
     },
     "execution_count": 29,
     "metadata": {},
     "output_type": "execute_result"
    },
    {
     "data": {
      "image/png": "[encoded data removed]",
      "text/plain": [
       "<Figure size 432x288 with 1 Axes>"
      ]
     },
     "metadata": {
      "needs_background": "light"
     },
     "output_type": "display_data"
    }
   ],
   "source": [
    "#hierarchical clustering\n",
    "X = df.iloc[:,0:2576]\n",
    "scaler = StandardScaler()\n",
    "X = scaler.fit_transform(X)\n",
    "X = pd.DataFrame(X)\n",
    "hierarchical_cluster = AgglomerativeClustering(n_clusters=2, affinity='euclidean', linkage='ward')\n",
    "hierarchical_cluster.fit(X)\n",
    "X[\"clusters\"] = hierarchical_cluster.labels_\n",
    "true_label = sum(X[\"clusters\"] == df[\"Gender\"])\n",
    "false_label = sum(X[\"clusters\"] != df[\"Gender\"])\n",
    "print(\"# of True Labeling: {}\\n# of False Labeling: {}\".format(true_label, false_label))\n",
    "\n",
    "true_lab = []\n",
    "false_lab = []\n",
    "for i in range(100):\n",
    "    kmeans_model = KMeans(n_clusters = 2)\n",
    "    kmeans_model.fit(X)\n",
    "    true_label = sum(kmeans_model.labels_ == df[\"Gender\"])\n",
    "    false_label = sum(kmeans_model.labels_ != df[\"Gender\"])\n",
    "    true_lab.append(true_label)\n",
    "    false_lab.append(false_label)\n",
    "\n",
    "plt.scatter(true_lab, false_lab)\n",
    "plt.xlabel(\"True Labels\")\n",
    "plt.ylabel(\"False Labels\")"
   ]
  },
  {
   "attachments": {},
   "cell_type": "markdown",
   "metadata": {},
   "source": [
    "### **Q2**"
   ]
  },
  {
   "cell_type": "code",
   "execution_count": 30,
   "metadata": {},
   "outputs": [],
   "source": [
    "from sklearn.model_selection import train_test_split\n",
    "from sklearn.cluster import KMeans\n",
    "from sklearn.cluster import AgglomerativeClustering\n",
    "from sklearn.cluster import DBSCAN"
   ]
  },
  {
   "cell_type": "code",
   "execution_count": 31,
   "metadata": {},
   "outputs": [],
   "source": [
    "col_names = [\"mpg\", \"cylinders\", \"displacement\", \"horsepower\", \"weight\", \"acceleration\", \"model year\", \"origin\",\n",
    "             \"car name\"]\n",
    "\n",
    "data = pd.read_csv(\"DA_Demo.csv\")\n",
    "data.columns = col_names\n",
    "data = data[data[\"horsepower\"] != \"?\"]\n",
    "data = data.drop(\"car name\", axis = 1)\n",
    "y = data[\"origin\"]\n",
    "X = data.drop(\"origin\", axis = 1)\n",
    "scaler = StandardScaler()\n",
    "X = scaler.fit_transform(X)"
   ]
  },
  {
   "cell_type": "code",
   "execution_count": 32,
   "metadata": {},
   "outputs": [
    {
     "name": "stdout",
     "output_type": "stream",
     "text": [
      "k-means\n",
      "True Labels: 79\n",
      "False Labels: 313\n",
      "\n"
     ]
    }
   ],
   "source": [
    "#K-Means\n",
    "kmeans_model = KMeans(n_clusters = 3)\n",
    "kmeans_model.fit(X)\n",
    "clusters_Kmeans = kmeans_model.labels_\n",
    "true_label = sum(clusters_Kmeans == y)\n",
    "false_label = sum(clusters_Kmeans != y)\n",
    "print(\"k-means\")\n",
    "print(\"True Labels: {}\\nFalse Labels: {}\\n\".format(true_label, false_label))"
   ]
  },
  {
   "cell_type": "code",
   "execution_count": 33,
   "metadata": {},
   "outputs": [
    {
     "name": "stdout",
     "output_type": "stream",
     "text": [
      "hierarchical clustering \n",
      "True Labels: 99\n",
      "False Labels: 293\n",
      "\n"
     ]
    }
   ],
   "source": [
    "#Hierarchical Clustering\n",
    "hierarchical_cluster_model = AgglomerativeClustering(n_clusters=3, affinity='euclidean', linkage='ward')\n",
    "hierarchical_cluster.fit(X)\n",
    "clusters_HC = hierarchical_cluster.labels_\n",
    "true_label = sum(clusters_HC == y)\n",
    "false_label = sum(clusters_HC != y)\n",
    "print(\"hierarchical clustering \")\n",
    "print(\"True Labels: {}\\nFalse Labels: {}\\n\".format(true_label, false_label))\n"
   ]
  },
  {
   "cell_type": "code",
   "execution_count": 39,
   "metadata": {},
   "outputs": [
    {
     "name": "stdout",
     "output_type": "stream",
     "text": [
      "DBSCAN\n",
      "True Labels: 140\n",
      "False Labels: 244\n",
      "\n"
     ]
    }
   ],
   "source": [
    "#DBSCAN\n",
    "DBSCAN_model = DBSCAN(eps=1.15, min_samples=3)\n",
    "DBSCAN_model.fit(X)\n",
    "clusters_DBSCAN = DBSCAN_model.labels_\n",
    "no_clusters = len(np.unique(clusters_DBSCAN) )\n",
    "no_noise = sum(clusters_DBSCAN == -1)\n",
    "print(\"DBSCAN\")\n",
    "y_remove_noise = y[clusters_DBSCAN != -1]\n",
    "clusters_DBSCAN_remove_noise = clusters_DBSCAN[clusters_DBSCAN != -1]\n",
    "true_label = sum(clusters_DBSCAN_remove_noise == y_remove_noise)\n",
    "false_label = sum(clusters_DBSCAN_remove_noise != y_remove_noise)\n",
    "print(\"True Labels: {}\\nFalse Labels: {}\\n\".format(true_label, false_label))"
   ]
  },
  {
   "cell_type": "code",
   "execution_count": 36,
   "metadata": {},
   "outputs": [
    {
     "name": "stdout",
     "output_type": "stream",
     "text": [
      "LR\n",
      "True Labels: 309\n",
      "False Labels: 83\n",
      "\n"
     ]
    }
   ],
   "source": [
    "#Logistic Regression\n",
    "from sklearn import linear_model\n",
    "logr = linear_model.LogisticRegression(multi_class='multinomial', solver='lbfgs')\n",
    "logr.fit(X, y)\n",
    "predicted_LR = logr.predict(X)\n",
    "true_label = sum(predicted_LR == y)\n",
    "false_label = sum(predicted_LR != y)\n",
    "print(\"LR\")\n",
    "print(\"True Labels: {}\\nFalse Labels: {}\\n\".format(true_label, false_label))"
   ]
  },
  {
   "cell_type": "code",
   "execution_count": 37,
   "metadata": {},
   "outputs": [
    {
     "name": "stdout",
     "output_type": "stream",
     "text": [
      "SVM\n",
      "True Labels: 310\n",
      "False Labels: 82\n",
      "\n"
     ]
    }
   ],
   "source": [
    "#SVM\n",
    "from sklearn.svm import SVC\n",
    "clf = SVC(kernel='linear')\n",
    "clf.fit(X, y)\n",
    "predicted_SVM = clf.predict(X)\n",
    "true_label = sum(predicted_SVM == y)\n",
    "false_label = sum(predicted_SVM != y)\n",
    "print(\"SVM\")\n",
    "print(\"True Labels: {}\\nFalse Labels: {}\\n\".format(true_label, false_label))"
   ]
  },
  {
   "cell_type": "code",
   "execution_count": 38,
   "metadata": {},
   "outputs": [
    {
     "name": "stdout",
     "output_type": "stream",
     "text": [
      "KNN\n",
      "True Labels: 392\n",
      "False Labels: 0\n",
      "\n"
     ]
    }
   ],
   "source": [
    "#KNN\n",
    "from sklearn.neighbors import KNeighborsClassifier\n",
    "knn = KNeighborsClassifier(n_neighbors=1)\n",
    "knn.fit(X, y)\n",
    "predicted_KNN = knn.predict(X)\n",
    "true_label = sum(predicted_KNN == y)\n",
    "false_label = sum(predicted_KNN != y)\n",
    "print(\"KNN\")\n",
    "print(\"True Labels: {}\\nFalse Labels: {}\\n\".format(true_label, false_label))"
   ]
  }
 ],
 "metadata": {
  "kernelspec": {
   "display_name": "Python 3",
   "language": "python",
   "name": "python3"
  },
  "language_info": {
   "codemirror_mode": {
    "name": "ipython",
    "version": 3
   },
   "file_extension": ".py",
   "mimetype": "text/x-python",
   "name": "python",
   "nbconvert_exporter": "python",
   "pygments_lexer": "ipython3",
   "version": "3.6.8"
  },
  "orig_nbformat": 4
 },
 "nbformat": 4,
 "nbformat_minor": 2
}
