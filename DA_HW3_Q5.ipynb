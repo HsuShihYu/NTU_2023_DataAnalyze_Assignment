{
 "cells": [
  {
   "cell_type": "markdown",
   "metadata": {},
   "source": [
    "### Q5"
   ]
  },
  {
   "cell_type": "code",
   "execution_count": 3,
   "metadata": {},
   "outputs": [],
   "source": [
    "import pandas as pd \n",
    "from statsmodels.stats.outliers_influence import variance_inflation_factor\n",
    "import statsmodels.api as sm"
   ]
  },
  {
   "cell_type": "code",
   "execution_count": 10,
   "metadata": {},
   "outputs": [
    {
     "name": "stdout",
     "output_type": "stream",
     "text": [
      "      Variables         VIF\n",
      "0         const  763.557531\n",
      "1     cylinders   10.737535\n",
      "2        origin    1.772386\n",
      "3  acceleration    2.625806\n",
      "4    model year    1.244952\n",
      "5    horsepower    9.943693\n",
      "6        weight   10.831260\n",
      "7  displacement   21.836792\n"
     ]
    }
   ],
   "source": [
    "data = pd.read_csv(r\"/Users/4yo/Downloads/demo.csv\")\n",
    "X = data[['cylinders','origin','acceleration','model year','horsepower','weight','displacement']]\n",
    "X = sm.add_constant(X)\n",
    "vif_data = pd.DataFrame()\n",
    "vif_data[\"Variables\"] = X.columns\n",
    "vif_data[\"VIF\"] = [variance_inflation_factor(X.values, i) for i in range(len(X.columns))]\n",
    "print(vif_data)"
   ]
  }
 ],
 "metadata": {
  "kernelspec": {
   "display_name": "Python 3",
   "language": "python",
   "name": "python3"
  },
  "language_info": {
   "codemirror_mode": {
    "name": "ipython",
    "version": 3
   },
   "file_extension": ".py",
   "mimetype": "text/x-python",
   "name": "python",
   "nbconvert_exporter": "python",
   "pygments_lexer": "ipython3",
   "version": "3.8.2"
  }
 },
 "nbformat": 4,
 "nbformat_minor": 4
}
