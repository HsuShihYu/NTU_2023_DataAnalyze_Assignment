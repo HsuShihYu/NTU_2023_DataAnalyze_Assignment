{
 "cells": [
  {
   "attachments": {},
   "cell_type": "markdown",
   "metadata": {},
   "source": [
    "## **Data Analytics HW#7**\n",
    "* **學號：R10546001**\n",
    "* **姓名：許世佑**"
   ]
  },
  {
   "attachments": {},
   "cell_type": "markdown",
   "metadata": {},
   "source": [
    "### **Q1**"
   ]
  },
  {
   "cell_type": "code",
   "execution_count": 10,
   "metadata": {},
   "outputs": [],
   "source": [
    "from PIL import Image\n",
    "import numpy\n",
    "from numpy import array\n",
    "import numpy as np\n",
    "from tkinter import _flatten\n",
    "from sklearn.model_selection import train_test_split\n",
    "from sklearn.preprocessing  import StandardScaler\n",
    "from sklearn.neighbors import KNeighborsClassifier\n",
    "from sklearn.linear_model  import LogisticRegression\n",
    "from sklearn import svm"
   ]
  },
  {
   "cell_type": "code",
   "execution_count": 11,
   "metadata": {},
   "outputs": [],
   "source": [
    "image_matrix = np.zeros((400, 2576))\n",
    "gender = np.array([])\n",
    "for j in range(0, 40):\n",
    "    for i in range(0, 10):\n",
    "        image = Image.open(r\"/Users/4yo/Desktop/NTU_Class/Data_Analyze_Method/ORL_Faces/%s_%s.png\" %(j+1, i+1))\n",
    "        image_array = array(image)\n",
    "        image_matrix[i+j*10] = image_array.flatten()\n",
    "gender = [10*[0],10*[1],10*[1],10*[1],10*[1],10*[1],10*[1],10*[0],10*[1],10*[0]\n",
    "         ,10*[1],10*[1],10*[1],10*[1],10*[1],10*[1],10*[1],10*[1],10*[1],10*[1]\n",
    "         ,10*[1],10*[1],10*[1],10*[1],10*[1],10*[1],10*[1],10*[1],10*[1],10*[1]\n",
    "         ,10*[1],10*[0],10*[1],10*[1],10*[1],10*[1],10*[1],10*[1],10*[1],10*[1]]\n",
    "gender = list(_flatten(gender))"
   ]
  },
  {
   "cell_type": "code",
   "execution_count": 12,
   "metadata": {},
   "outputs": [],
   "source": [
    "X = image_matrix\n",
    "y = gender\n",
    "\n",
    "# Split data\n",
    "X_train, X_test, y_train, y_test = train_test_split(X, y, test_size=0.2, random_state=1)\n",
    "\n",
    "# Normalize\n",
    "sc=StandardScaler()\n",
    "sc.fit(X_train)\n",
    "X_train_nor=sc.transform(X_train)\n",
    "X_test_nor=sc.transform(X_test)"
   ]
  },
  {
   "cell_type": "code",
   "execution_count": 13,
   "metadata": {},
   "outputs": [
    {
     "name": "stdout",
     "output_type": "stream",
     "text": [
      "Accuracy of LR model:  96.25 %\n"
     ]
    },
    {
     "name": "stderr",
     "output_type": "stream",
     "text": [
      "/Library/Frameworks/Python.framework/Versions/3.6/lib/python3.6/site-packages/sklearn/linear_model/_logistic.py:765: ConvergenceWarning: lbfgs failed to converge (status=1):\n",
      "STOP: TOTAL NO. of ITERATIONS REACHED LIMIT.\n",
      "\n",
      "Increase the number of iterations (max_iter) or scale the data as shown in:\n",
      "    https://scikit-learn.org/stable/modules/preprocessing.html\n",
      "Please also refer to the documentation for alternative solver options:\n",
      "    https://scikit-learn.org/stable/modules/linear_model.html#logistic-regression\n",
      "  extra_warning_msg=_LOGISTIC_SOLVER_CONVERGENCE_MSG)\n"
     ]
    }
   ],
   "source": [
    "lr=LogisticRegression()\n",
    "lr.fit(X_train_nor,y_train)\n",
    "print(\"Accuracy of LR model: \",100*lr.score(X_test_nor, y_test),\"%\")"
   ]
  },
  {
   "cell_type": "code",
   "execution_count": 14,
   "metadata": {},
   "outputs": [
    {
     "name": "stdout",
     "output_type": "stream",
     "text": [
      "Accuracy of KNN model:  97.5 %\n"
     ]
    }
   ],
   "source": [
    "knn = KNeighborsClassifier(n_neighbors = 5)\n",
    "knn.fit(X_train_nor,y_train)\n",
    "print(\"Accuracy of KNN model: \",100*knn.score(X_test_nor, y_test),\"%\")"
   ]
  },
  {
   "cell_type": "code",
   "execution_count": 15,
   "metadata": {},
   "outputs": [
    {
     "name": "stdout",
     "output_type": "stream",
     "text": [
      "Accuracy of SVM model:  88.75 %\n"
     ]
    }
   ],
   "source": [
    "clf=svm.SVC(kernel='linear',C=1)\n",
    "clf.fit(X_train,y_train)\n",
    "print(\"Accuracy of SVM model: \",100*clf.score(X_test_nor, y_test),\"%\")"
   ]
  },
  {
   "attachments": {},
   "cell_type": "markdown",
   "metadata": {},
   "source": [
    "### **Q2**"
   ]
  },
  {
   "cell_type": "code",
   "execution_count": 16,
   "metadata": {},
   "outputs": [],
   "source": [
    "from sklearn.linear_model import Lasso\n",
    "import matplotlib.pyplot as plt\n",
    "import math"
   ]
  },
  {
   "cell_type": "code",
   "execution_count": 17,
   "metadata": {},
   "outputs": [
    {
     "data": {
      "text/plain": [
       "Lasso(alpha=0.001, normalize=True)"
      ]
     },
     "execution_count": 17,
     "metadata": {},
     "output_type": "execute_result"
    }
   ],
   "source": [
    "lasso = Lasso(alpha = 0.001,normalize = True)\n",
    "lasso.fit(X, y)"
   ]
  },
  {
   "cell_type": "code",
   "execution_count": 18,
   "metadata": {},
   "outputs": [
    {
     "data": {
      "image/png": "[encoded data removed]",
      "text/plain": [
       "<Figure size 432x288 with 1 Axes>"
      ]
     },
     "metadata": {
      "needs_background": "light"
     },
     "output_type": "display_data"
    }
   ],
   "source": [
    "important_pixels = []\n",
    "for i in range(len(lasso.coef_)):\n",
    "    if lasso.coef_[i] != 0:\n",
    "        important_pixels.append(i)\n",
    "image = Image.open(r\"/Users/4yo/Desktop/NTU_Class/Data_Analyze_Method/ORL_Faces/1_1.png\")\n",
    "img_array = np.array(image)\n",
    "for i in range(0, len(important_pixels)): #math.floor()\n",
    "    col = math.floor(important_pixels[i]/46)\n",
    "    row = important_pixels[i]-46*col\n",
    "    #print(\"(\",col,\",\", row,\")\")    \n",
    "    img_array[int(col)][int(row)]=255\n",
    "plt.imshow(img_array, interpolation='nearest')\n",
    "plt.show()"
   ]
  },
  {
   "cell_type": "code",
   "execution_count": 19,
   "metadata": {},
   "outputs": [],
   "source": [
    "X_important = np.zeros((400, len(important_pixels)))\n",
    "X_important = X.T[important_pixels]\n",
    "X_important = X_important.T"
   ]
  },
  {
   "cell_type": "code",
   "execution_count": 20,
   "metadata": {},
   "outputs": [],
   "source": [
    "# Split data\n",
    "X_important_train, X_important_test, y_train, y_test = train_test_split(X_important, y, test_size=0.2, random_state=1)\n",
    "\n",
    "# Normalize\n",
    "sc=StandardScaler()\n",
    "sc.fit(X_important_train)\n",
    "X_important_train_nor=sc.transform(X_important_train)\n",
    "X_important_test_nor=sc.transform(X_important_test)"
   ]
  },
  {
   "cell_type": "code",
   "execution_count": 21,
   "metadata": {},
   "outputs": [
    {
     "name": "stdout",
     "output_type": "stream",
     "text": [
      "Accuracy of LR model:  97.5 %\n"
     ]
    }
   ],
   "source": [
    "lr=LogisticRegression()\n",
    "lr.fit(X_important_train_nor,y_train)\n",
    "print(\"Accuracy of LR model: \",100*lr.score(X_important_test_nor, y_test),\"%\")"
   ]
  },
  {
   "cell_type": "code",
   "execution_count": 22,
   "metadata": {},
   "outputs": [
    {
     "name": "stdout",
     "output_type": "stream",
     "text": [
      "Accuracy of KNN model:  97.5 %\n"
     ]
    }
   ],
   "source": [
    "# Create KNN Model\n",
    "knn = KNeighborsClassifier(n_neighbors = 5)\n",
    "knn.fit(X_important_train_nor,y_train)\n",
    "print(\"Accuracy of KNN model: \",100*knn.score(X_important_test_nor, y_test),\"%\")"
   ]
  },
  {
   "cell_type": "code",
   "execution_count": 23,
   "metadata": {},
   "outputs": [
    {
     "name": "stdout",
     "output_type": "stream",
     "text": [
      "Accuracy of SVM model:  96.25 %\n"
     ]
    }
   ],
   "source": [
    "# Create LogisticRegression Model\n",
    "clf=svm.SVC(kernel='linear',C=1)\n",
    "clf.fit(X_important_train_nor,y_train)\n",
    "print(\"Accuracy of SVM model: \",100*clf.score(X_important_test_nor, y_test),\"%\")"
   ]
  },
  {
   "attachments": {},
   "cell_type": "markdown",
   "metadata": {},
   "source": [
    "### **Q3**"
   ]
  },
  {
   "cell_type": "code",
   "execution_count": 2,
   "metadata": {},
   "outputs": [],
   "source": [
    "import pandas as pd\n",
    "import numpy as np\n",
    "from sklearn.linear_model import LogisticRegression\n",
    "from sklearn.neighbors import KNeighborsClassifier\n",
    "from sklearn.svm import SVC\n",
    "from sklearn.model_selection import train_test_split\n",
    "from sklearn.metrics import accuracy_score\n",
    "\n",
    "# Load the dataset\n",
    "auto = pd.read_csv('/Users/4yo/Desktop/NTU_Class/Data_Analyze_Method/DA_Demo.csv')"
   ]
  },
  {
   "cell_type": "code",
   "execution_count": 3,
   "metadata": {},
   "outputs": [],
   "source": [
    "# Create X and y\n",
    "X = auto[['mpg', 'cylinders', 'displacement', 'horsepower', 'weight', 'acceleration', 'model year']]\n",
    "y = auto['origin']\n",
    "\n",
    "# Split the data into training and testing sets\n",
    "X_train, X_test, y_train, y_test = train_test_split(X, y, test_size=0.3, random_state=42)"
   ]
  },
  {
   "cell_type": "code",
   "execution_count": 4,
   "metadata": {},
   "outputs": [
    {
     "name": "stdout",
     "output_type": "stream",
     "text": [
      "Accuracy of LR model: 73.72881355932203 %\n"
     ]
    },
    {
     "name": "stderr",
     "output_type": "stream",
     "text": [
      "/Library/Frameworks/Python.framework/Versions/3.6/lib/python3.6/site-packages/sklearn/utils/optimize.py:203: ConvergenceWarning: newton-cg failed to converge. Increase the number of iterations.\n",
      "  \"number of iterations.\", ConvergenceWarning)\n"
     ]
    }
   ],
   "source": [
    "# Create and fit the model\n",
    "lr = LogisticRegression(multi_class='multinomial', solver='newton-cg')\n",
    "lr.fit(X_train, y_train)\n",
    "\n",
    "# Make predictions on the test set\n",
    "lr_pred = lr.predict(X_test)\n",
    "\n",
    "# Evaluate the model\n",
    "lr_accuracy = accuracy_score(y_test, lr_pred)\n",
    "print('Accuracy of LR model:', 100*lr_accuracy, '%')"
   ]
  },
  {
   "cell_type": "code",
   "execution_count": 5,
   "metadata": {},
   "outputs": [
    {
     "name": "stdout",
     "output_type": "stream",
     "text": [
      "Accuracy of KNN model: 0.6440677966101694\n"
     ]
    }
   ],
   "source": [
    "# Create and fit the model\n",
    "knn = KNeighborsClassifier(n_neighbors=5)\n",
    "knn.fit(X_train, y_train)\n",
    "\n",
    "# Make predictions on the test set\n",
    "knn_pred = knn.predict(X_test)\n",
    "\n",
    "# Evaluate the model\n",
    "knn_accuracy = accuracy_score(y_test, knn_pred)\n",
    "print('Accuracy of KNN model:', knn_accuracy)"
   ]
  },
  {
   "cell_type": "code",
   "execution_count": 6,
   "metadata": {},
   "outputs": [
    {
     "name": "stdout",
     "output_type": "stream",
     "text": [
      "Accuracy of SVM model:  0.711864406779661\n"
     ]
    }
   ],
   "source": [
    "# Create and fit the model\n",
    "svc = SVC(kernel='linear', C=1, decision_function_shape='ovr')\n",
    "svc.fit(X_train, y_train)\n",
    "\n",
    "# Make predictions on the test set\n",
    "svc_pred = svc.predict(X_test)\n",
    "\n",
    "# Evaluate the model\n",
    "svc_accuracy = accuracy_score(y_test, svc_pred)\n",
    "print('Accuracy of SVM model: ', svc_accuracy)"
   ]
  }
 ],
 "metadata": {
  "kernelspec": {
   "display_name": "Python 3",
   "language": "python",
   "name": "python3"
  },
  "language_info": {
   "codemirror_mode": {
    "name": "ipython",
    "version": 3
   },
   "file_extension": ".py",
   "mimetype": "text/x-python",
   "name": "python",
   "nbconvert_exporter": "python",
   "pygments_lexer": "ipython3",
   "version": "3.6.8"
  },
  "orig_nbformat": 4
 },
 "nbformat": 4,
 "nbformat_minor": 2
}
